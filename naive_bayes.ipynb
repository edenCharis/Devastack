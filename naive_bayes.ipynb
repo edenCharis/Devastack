{
 "cells": [
  {
   "cell_type": "code",
   "execution_count": 1,
   "id": "adc0f4b6-e985-4e6b-9616-9c2b69422f90",
   "metadata": {},
   "outputs": [
    {
     "data": {
      "text/html": [
       "<div>\n",
       "<style scoped>\n",
       "    .dataframe tbody tr th:only-of-type {\n",
       "        vertical-align: middle;\n",
       "    }\n",
       "\n",
       "    .dataframe tbody tr th {\n",
       "        vertical-align: top;\n",
       "    }\n",
       "\n",
       "    .dataframe thead th {\n",
       "        text-align: right;\n",
       "    }\n",
       "</style>\n",
       "<table border=\"1\" class=\"dataframe\">\n",
       "  <thead>\n",
       "    <tr style=\"text-align: right;\">\n",
       "      <th></th>\n",
       "      <th>age</th>\n",
       "      <th>sex</th>\n",
       "      <th>cp</th>\n",
       "      <th>trestbps</th>\n",
       "      <th>chol</th>\n",
       "      <th>fbs</th>\n",
       "      <th>restecg</th>\n",
       "      <th>thalach</th>\n",
       "      <th>exang</th>\n",
       "      <th>oldpeak</th>\n",
       "      <th>slope</th>\n",
       "      <th>ca</th>\n",
       "      <th>thal</th>\n",
       "      <th>target</th>\n",
       "    </tr>\n",
       "  </thead>\n",
       "  <tbody>\n",
       "    <tr>\n",
       "      <th>298</th>\n",
       "      <td>57</td>\n",
       "      <td>0</td>\n",
       "      <td>0</td>\n",
       "      <td>140</td>\n",
       "      <td>241</td>\n",
       "      <td>0</td>\n",
       "      <td>1</td>\n",
       "      <td>123</td>\n",
       "      <td>1</td>\n",
       "      <td>0.2</td>\n",
       "      <td>1</td>\n",
       "      <td>0</td>\n",
       "      <td>3</td>\n",
       "      <td>0</td>\n",
       "    </tr>\n",
       "    <tr>\n",
       "      <th>299</th>\n",
       "      <td>45</td>\n",
       "      <td>1</td>\n",
       "      <td>3</td>\n",
       "      <td>110</td>\n",
       "      <td>264</td>\n",
       "      <td>0</td>\n",
       "      <td>1</td>\n",
       "      <td>132</td>\n",
       "      <td>0</td>\n",
       "      <td>1.2</td>\n",
       "      <td>1</td>\n",
       "      <td>0</td>\n",
       "      <td>3</td>\n",
       "      <td>0</td>\n",
       "    </tr>\n",
       "    <tr>\n",
       "      <th>300</th>\n",
       "      <td>68</td>\n",
       "      <td>1</td>\n",
       "      <td>0</td>\n",
       "      <td>144</td>\n",
       "      <td>193</td>\n",
       "      <td>1</td>\n",
       "      <td>1</td>\n",
       "      <td>141</td>\n",
       "      <td>0</td>\n",
       "      <td>3.4</td>\n",
       "      <td>1</td>\n",
       "      <td>2</td>\n",
       "      <td>3</td>\n",
       "      <td>0</td>\n",
       "    </tr>\n",
       "    <tr>\n",
       "      <th>301</th>\n",
       "      <td>57</td>\n",
       "      <td>1</td>\n",
       "      <td>0</td>\n",
       "      <td>130</td>\n",
       "      <td>131</td>\n",
       "      <td>0</td>\n",
       "      <td>1</td>\n",
       "      <td>115</td>\n",
       "      <td>1</td>\n",
       "      <td>1.2</td>\n",
       "      <td>1</td>\n",
       "      <td>1</td>\n",
       "      <td>3</td>\n",
       "      <td>0</td>\n",
       "    </tr>\n",
       "    <tr>\n",
       "      <th>302</th>\n",
       "      <td>57</td>\n",
       "      <td>0</td>\n",
       "      <td>1</td>\n",
       "      <td>130</td>\n",
       "      <td>236</td>\n",
       "      <td>0</td>\n",
       "      <td>0</td>\n",
       "      <td>174</td>\n",
       "      <td>0</td>\n",
       "      <td>0.0</td>\n",
       "      <td>1</td>\n",
       "      <td>1</td>\n",
       "      <td>2</td>\n",
       "      <td>0</td>\n",
       "    </tr>\n",
       "  </tbody>\n",
       "</table>\n",
       "</div>"
      ],
      "text/plain": [
       "     age  sex  cp  trestbps  chol  fbs  restecg  thalach  exang  oldpeak  \\\n",
       "298   57    0   0       140   241    0        1      123      1      0.2   \n",
       "299   45    1   3       110   264    0        1      132      0      1.2   \n",
       "300   68    1   0       144   193    1        1      141      0      3.4   \n",
       "301   57    1   0       130   131    0        1      115      1      1.2   \n",
       "302   57    0   1       130   236    0        0      174      0      0.0   \n",
       "\n",
       "     slope  ca  thal  target  \n",
       "298      1   0     3       0  \n",
       "299      1   0     3       0  \n",
       "300      1   2     3       0  \n",
       "301      1   1     3       0  \n",
       "302      1   1     2       0  "
      ]
     },
     "execution_count": 1,
     "metadata": {},
     "output_type": "execute_result"
    }
   ],
   "source": [
    "import pandas as pd\n",
    "import matplotlib.pyplot as plt\n",
    "import seaborn as sns\n",
    "from sklearn.naive_bayes import GaussianNB\n",
    "from sklearn.model_selection import train_test_split\n",
    "from sklearn import preprocessing \n",
    "from sklearn.preprocessing import RobustScaler\n",
    "from sklearn.metrics import confusion_matrix, accuracy_score, precision_score, recall_score, f1_score, classification_report,roc_curve, roc_auc_score\n",
    "from sklearn.metrics import confusion_matrix,make_scorer, accuracy_score, precision_score, recall_score, f1_score, classification_report,roc_curve, roc_auc_score\n",
    "from sklearn.model_selection import GridSearchCV\n",
    "from sklearn.neighbors import KNeighborsClassifier\n",
    "from sklearn.preprocessing import MinMaxScaler\n",
    "from sklearn.model_selection import cross_val_score, KFold\n",
    "from sklearn.pipeline import Pipeline\n",
    "from sklearn.model_selection import cross_validate\n",
    "data_set = pd.read_csv('heart-disease.csv')\n",
    "data_set.tail()\n"
   ]
  },
  {
   "cell_type": "code",
   "execution_count": 2,
   "id": "c4241835-4ed3-46ee-bc54-94b97efbe4b1",
   "metadata": {},
   "outputs": [],
   "source": [
    "\n",
    "data_set= data_set.drop_duplicates()# Retrait des valeurs dupliquées\n",
    "#Mis à l'échelle des données avec la méthode Robust scaling pour éviter l'impact des valeurs aberrantes\n",
    "\n",
    "X = data_set.drop(columns='target')  \n",
    "y = data_set['target']     "
   ]
  },
  {
   "cell_type": "code",
   "execution_count": 12,
   "id": "3df124b5-4c2b-4c6d-b1ea-3e5297ac057a",
   "metadata": {},
   "outputs": [
    {
     "name": "stdout",
     "output_type": "stream",
     "text": [
      "Mean Accuracy: 0.8143169398907103\n",
      "Mean Precision: 0.822900444938821\n",
      "Mean Recall: 0.852571926765475\n",
      "Mean F1-score: 0.8351713001435371\n"
     ]
    }
   ],
   "source": [
    "pipeline = Pipeline([\n",
    "\n",
    "    ('nb', GaussianNB())  # Model step\n",
    "])\n",
    "kf = KFold(n_splits=5, shuffle=True, random_state=42)\n",
    "\n",
    "scoring = {\n",
    "    'accuracy': 'accuracy',\n",
    "    'precision': make_scorer(precision_score),\n",
    "    'recall': make_scorer(recall_score),\n",
    "    'f1': make_scorer(f1_score)\n",
    "}\n",
    "\n",
    "results = cross_validate(pipeline, X, y, cv=kf, scoring=scoring)\n",
    "print(f\"Mean Accuracy: {results['test_accuracy'].mean()}\")\n",
    "print(f\"Mean Precision: {results['test_precision'].mean()}\")\n",
    "print(f\"Mean Recall: {results['test_recall'].mean()}\")\n",
    "print(f\"Mean F1-score: {results['test_f1'].mean()}\")\n",
    "\n"
   ]
  },
  {
   "cell_type": "code",
   "execution_count": 3,
   "id": "aeea174f-0495-4e6f-a16f-722291658f0e",
   "metadata": {},
   "outputs": [
    {
     "name": "stdout",
     "output_type": "stream",
     "text": [
      "(241, 13)\n",
      "(61, 13)\n",
      "(241,)\n",
      "(61,)\n"
     ]
    }
   ],
   "source": [
    "# Division de l'ensemble de données en données d'entrainement et en données de test\n",
    "\n",
    "X_entrainement, X_test, y_entrainement, y_test = train_test_split(X, y,test_size=0.2, random_state=0)\n",
    "\n",
    "print(X_entrainement.shape)\n",
    "print(X_test.shape)\n",
    "print(y_entrainement.shape)\n",
    "print(y_test.shape)"
   ]
  },
  {
   "cell_type": "code",
   "execution_count": 4,
   "id": "724a8faa-bf7a-4ea1-9623-cff2f1f9ea45",
   "metadata": {},
   "outputs": [
    {
     "name": "stdout",
     "output_type": "stream",
     "text": [
      "Précision des prédictions: 0.90\n"
     ]
    }
   ],
   "source": [
    "classifieur = GaussianNB() \n",
    "classifieur.fit(X_entrainement, y_entrainement)\n",
    "print(\"Précision des prédictions: {:.2f}\".format(classifieur.score(X_test, y_test)))"
   ]
  },
  {
   "cell_type": "code",
   "execution_count": 5,
   "id": "5070c6ef-7685-427d-9501-d4b1f4faaae2",
   "metadata": {},
   "outputs": [
    {
     "data": {
      "image/png": "[encoded data removed]",
      "text/plain": [
       "<Figure size 800x600 with 2 Axes>"
      ]
     },
     "metadata": {},
     "output_type": "display_data"
    }
   ],
   "source": [
    "# predict and evaluate performance\n",
    "def_y_pred = classifieur.predict(X_test)\n",
    "matrice_confusion = confusion_matrix(y_test, def_y_pred)\n",
    "plt.figure(figsize=(8,6))\n",
    "sns.heatmap(matrice_confusion, annot=True, fmt='d', cmap='Blues')\n",
    "\n",
    "plt.title('Matrice de Confusion Naif Bayes')\n",
    "plt.xlabel('Prédictions')\n",
    "plt.ylabel('Vérités réelles')\n",
    "plt.show()"
   ]
  },
  {
   "cell_type": "code",
   "execution_count": 10,
   "id": "8f0fe1a1-ec11-43f1-b436-ef9e44f7fcf0",
   "metadata": {},
   "outputs": [
    {
     "name": "stdout",
     "output_type": "stream",
     "text": [
      " Exactitude :  90.16\n",
      " precision :  91.18\n",
      " rappel :  91.18\n"
     ]
    }
   ],
   "source": [
    "exactitude = accuracy_score(y_test,def_y_pred)\n",
    "precision = precision_score(y_test,def_y_pred)\n",
    "rappel = recall_score(y_test,def_y_pred)\n",
    "print(f\" Exactitude : { exactitude *100: .2f}\")\n",
    "print(f\" precision : { precision *100: .2f}\")\n",
    "print(f\" rappel : { rappel*100: .2f}\")\n"
   ]
  },
  {
   "cell_type": "code",
   "execution_count": 8,
   "id": "4b82d200-1a40-4864-b768-80fe32d059cf",
   "metadata": {},
   "outputs": [
    {
     "name": "stdout",
     "output_type": "stream",
     "text": [
      "                     precision    recall  f1-score   support\n",
      "\n",
      " Absence de maladie       0.89      0.89      0.89        27\n",
      "Présence de maladie       0.91      0.91      0.91        34\n",
      "\n",
      "           accuracy                           0.90        61\n",
      "          macro avg       0.90      0.90      0.90        61\n",
      "       weighted avg       0.90      0.90      0.90        61\n",
      "\n"
     ]
    }
   ],
   "source": [
    "rapport = classification_report(y_test, def_y_pred, target_names=['Absence de maladie', 'Présence de maladie'])\n",
    "print(rapport)"
   ]
  },
  {
   "cell_type": "code",
   "execution_count": 11,
   "id": "e80d8a9e-b931-4f18-b64a-eb76d11a59fd",
   "metadata": {},
   "outputs": [
    {
     "name": "stdout",
     "output_type": "stream",
     "text": [
      "AUC : 0.92\n"
     ]
    }
   ],
   "source": [
    "# Probabilités de la classe positive (présence de maladie)\n",
    "y_probs = classifieur.predict_proba(X_test)[:, 1]\n",
    "fpr, tpr, thresholds = roc_curve(y_test, y_probs)\n",
    "auc = roc_auc_score(y_test, y_probs)\n",
    "print(f'AUC : {auc:.2f}')\n"
   ]
  },
  {
   "cell_type": "code",
   "execution_count": 10,
   "id": "79e83554-ddd4-44f6-bd92-d4114f77b0c4",
   "metadata": {},
   "outputs": [
    {
     "data": {
      "image/png": "[encoded data removed]",
      "text/plain": [
       "<Figure size 640x480 with 1 Axes>"
      ]
     },
     "metadata": {},
     "output_type": "display_data"
    }
   ],
   "source": [
    "fpr, tpr, thresholds = roc_curve(y_test, y_probs)\n",
    "plt.plot(fpr, tpr, label=f'AUC = {auc:.2f}')\n",
    "plt.plot([0, 1], [0, 1], 'k--')  # Courbe aléatoire (ligne diagonale)\n",
    "plt.xlabel('Taux de faux positifs (False Positive Rate)')\n",
    "plt.ylabel('Taux de vrais positifs (True Positive Rate)')\n",
    "plt.title('Courbe ROC')\n",
    "plt.legend(loc='lower right')\n",
    "plt.show()"
   ]
  },
  {
   "cell_type": "code",
   "execution_count": null,
   "id": "7faef063-0231-48f8-9e81-37704bff6a20",
   "metadata": {},
   "outputs": [],
   "source": []
  }
 ],
 "metadata": {
  "kernelspec": {
   "display_name": "Python 3 (ipykernel)",
   "language": "python",
   "name": "python3"
  },
  "language_info": {
   "codemirror_mode": {
    "name": "ipython",
    "version": 3
   },
   "file_extension": ".py",
   "mimetype": "text/x-python",
   "name": "python",
   "nbconvert_exporter": "python",
   "pygments_lexer": "ipython3",
   "version": "3.13.0"
  }
 },
 "nbformat": 4,
 "nbformat_minor": 5
}
